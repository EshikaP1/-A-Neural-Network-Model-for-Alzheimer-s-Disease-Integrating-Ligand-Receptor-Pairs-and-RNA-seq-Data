{
  "nbformat": 4,
  "nbformat_minor": 0,
  "metadata": {
    "colab": {
      "provenance": []
    },
    "kernelspec": {
      "name": "python3",
      "display_name": "Python 3"
    },
    "language_info": {
      "name": "python"
    }
  },
  "cells": [
    {
      "cell_type": "code",
      "execution_count": null,
      "metadata": {
        "colab": {
          "base_uri": "https://localhost:8080/",
          "height": 1000
        },
        "id": "ElMe7jO8w79P",
        "outputId": "87f3a9da-01c7-424b-e2dd-17334a767f58"
      },
      "outputs": [
        {
          "output_type": "stream",
          "name": "stdout",
          "text": [
            "Collecting liana\n",
            "  Using cached liana-1.4.0-py3-none-any.whl.metadata (6.4 kB)\n",
            "Collecting anndata>=0.7.4 (from liana)\n",
            "  Using cached anndata-0.10.9-py3-none-any.whl.metadata (6.9 kB)\n",
            "Collecting docrep>=0.3.1 (from liana)\n",
            "  Using cached docrep-0.3.2-py3-none-any.whl\n",
            "Collecting mudata (from liana)\n",
            "  Using cached mudata-0.3.1-py3-none-any.whl.metadata (8.3 kB)\n",
            "Requirement already satisfied: numba>=0.54.0 in /usr/local/lib/python3.10/dist-packages (from liana) (0.60.0)\n",
            "Requirement already satisfied: plotnine>=0.10.0 in /usr/local/lib/python3.10/dist-packages (from liana) (0.14.0)\n",
            "Collecting pre-commit>=3.0.0 (from liana)\n",
            "  Using cached pre_commit-4.0.1-py2.py3-none-any.whl.metadata (1.3 kB)\n",
            "Collecting scanpy>=1.8.0 (from liana)\n",
            "  Using cached scanpy-1.10.3-py3-none-any.whl.metadata (9.4 kB)\n",
            "Requirement already satisfied: tqdm<5.0,>=4.0 in /usr/local/lib/python3.10/dist-packages (from liana) (4.66.6)\n",
            "Collecting array-api-compat!=1.5,>1.4 (from anndata>=0.7.4->liana)\n",
            "  Using cached array_api_compat-1.9.1-py3-none-any.whl.metadata (1.6 kB)\n",
            "Requirement already satisfied: exceptiongroup in /usr/local/lib/python3.10/dist-packages (from anndata>=0.7.4->liana) (1.2.2)\n",
            "Requirement already satisfied: h5py>=3.1 in /usr/local/lib/python3.10/dist-packages (from anndata>=0.7.4->liana) (3.12.1)\n",
            "Requirement already satisfied: natsort in /usr/local/lib/python3.10/dist-packages (from anndata>=0.7.4->liana) (8.4.0)\n",
            "Requirement already satisfied: numpy>=1.23 in /usr/local/lib/python3.10/dist-packages (from anndata>=0.7.4->liana) (1.26.4)\n",
            "Requirement already satisfied: packaging>=20.0 in /usr/local/lib/python3.10/dist-packages (from anndata>=0.7.4->liana) (24.1)\n",
            "Requirement already satisfied: pandas!=2.1.0rc0,!=2.1.2,>=1.4 in /usr/local/lib/python3.10/dist-packages (from anndata>=0.7.4->liana) (2.2.2)\n",
            "Requirement already satisfied: scipy>1.8 in /usr/local/lib/python3.10/dist-packages (from anndata>=0.7.4->liana) (1.13.1)\n",
            "Requirement already satisfied: six in /usr/local/lib/python3.10/dist-packages (from docrep>=0.3.1->liana) (1.16.0)\n",
            "Requirement already satisfied: llvmlite<0.44,>=0.43.0dev0 in /usr/local/lib/python3.10/dist-packages (from numba>=0.54.0->liana) (0.43.0)\n",
            "Requirement already satisfied: matplotlib>=3.8.0 in /usr/local/lib/python3.10/dist-packages (from plotnine>=0.10.0->liana) (3.8.0)\n",
            "Requirement already satisfied: mizani~=0.13.0 in /usr/local/lib/python3.10/dist-packages (from plotnine>=0.10.0->liana) (0.13.0)\n",
            "Requirement already satisfied: statsmodels>=0.14.0 in /usr/local/lib/python3.10/dist-packages (from plotnine>=0.10.0->liana) (0.14.4)\n",
            "Collecting cfgv>=2.0.0 (from pre-commit>=3.0.0->liana)\n",
            "  Using cached cfgv-3.4.0-py2.py3-none-any.whl.metadata (8.5 kB)\n",
            "Collecting identify>=1.0.0 (from pre-commit>=3.0.0->liana)\n",
            "  Using cached identify-2.6.1-py2.py3-none-any.whl.metadata (4.4 kB)\n",
            "Collecting nodeenv>=0.11.1 (from pre-commit>=3.0.0->liana)\n",
            "  Using cached nodeenv-1.9.1-py2.py3-none-any.whl.metadata (21 kB)\n",
            "Requirement already satisfied: pyyaml>=5.1 in /usr/local/lib/python3.10/dist-packages (from pre-commit>=3.0.0->liana) (6.0.2)\n",
            "Collecting virtualenv>=20.10.0 (from pre-commit>=3.0.0->liana)\n",
            "  Using cached virtualenv-20.27.1-py3-none-any.whl.metadata (4.5 kB)\n",
            "Requirement already satisfied: joblib in /usr/local/lib/python3.10/dist-packages (from scanpy>=1.8.0->liana) (1.4.2)\n",
            "Collecting legacy-api-wrap>=1.4 (from scanpy>=1.8.0->liana)\n",
            "  Using cached legacy_api_wrap-1.4-py3-none-any.whl.metadata (1.8 kB)\n",
            "Requirement already satisfied: networkx>=2.7 in /usr/local/lib/python3.10/dist-packages (from scanpy>=1.8.0->liana) (3.4.2)\n",
            "Requirement already satisfied: patsy in /usr/local/lib/python3.10/dist-packages (from scanpy>=1.8.0->liana) (0.5.6)\n",
            "Collecting pynndescent>=0.5 (from scanpy>=1.8.0->liana)\n",
            "  Using cached pynndescent-0.5.13-py3-none-any.whl.metadata (6.8 kB)\n",
            "Requirement already satisfied: scikit-learn>=0.24 in /usr/local/lib/python3.10/dist-packages (from scanpy>=1.8.0->liana) (1.5.2)\n",
            "Requirement already satisfied: seaborn>=0.13 in /usr/local/lib/python3.10/dist-packages (from scanpy>=1.8.0->liana) (0.13.2)\n",
            "Collecting session-info (from scanpy>=1.8.0->liana)\n",
            "  Using cached session_info-1.0.0-py3-none-any.whl\n",
            "Collecting umap-learn!=0.5.0,>=0.5 (from scanpy>=1.8.0->liana)\n",
            "  Using cached umap_learn-0.5.7-py3-none-any.whl.metadata (21 kB)\n",
            "Requirement already satisfied: contourpy>=1.0.1 in /usr/local/lib/python3.10/dist-packages (from matplotlib>=3.8.0->plotnine>=0.10.0->liana) (1.3.0)\n",
            "Requirement already satisfied: cycler>=0.10 in /usr/local/lib/python3.10/dist-packages (from matplotlib>=3.8.0->plotnine>=0.10.0->liana) (0.12.1)\n",
            "Requirement already satisfied: fonttools>=4.22.0 in /usr/local/lib/python3.10/dist-packages (from matplotlib>=3.8.0->plotnine>=0.10.0->liana) (4.54.1)\n",
            "Requirement already satisfied: kiwisolver>=1.0.1 in /usr/local/lib/python3.10/dist-packages (from matplotlib>=3.8.0->plotnine>=0.10.0->liana) (1.4.7)\n",
            "Requirement already satisfied: pillow>=6.2.0 in /usr/local/lib/python3.10/dist-packages (from matplotlib>=3.8.0->plotnine>=0.10.0->liana) (10.4.0)\n",
            "Requirement already satisfied: pyparsing>=2.3.1 in /usr/local/lib/python3.10/dist-packages (from matplotlib>=3.8.0->plotnine>=0.10.0->liana) (3.2.0)\n",
            "Requirement already satisfied: python-dateutil>=2.7 in /usr/local/lib/python3.10/dist-packages (from matplotlib>=3.8.0->plotnine>=0.10.0->liana) (2.8.2)\n",
            "Requirement already satisfied: pytz>=2020.1 in /usr/local/lib/python3.10/dist-packages (from pandas!=2.1.0rc0,!=2.1.2,>=1.4->anndata>=0.7.4->liana) (2024.2)\n",
            "Requirement already satisfied: tzdata>=2022.7 in /usr/local/lib/python3.10/dist-packages (from pandas!=2.1.0rc0,!=2.1.2,>=1.4->anndata>=0.7.4->liana) (2024.2)\n",
            "Requirement already satisfied: threadpoolctl>=3.1.0 in /usr/local/lib/python3.10/dist-packages (from scikit-learn>=0.24->scanpy>=1.8.0->liana) (3.5.0)\n",
            "Collecting distlib<1,>=0.3.7 (from virtualenv>=20.10.0->pre-commit>=3.0.0->liana)\n",
            "  Using cached distlib-0.3.9-py2.py3-none-any.whl.metadata (5.2 kB)\n",
            "Requirement already satisfied: filelock<4,>=3.12.2 in /usr/local/lib/python3.10/dist-packages (from virtualenv>=20.10.0->pre-commit>=3.0.0->liana) (3.16.1)\n",
            "Requirement already satisfied: platformdirs<5,>=3.9.1 in /usr/local/lib/python3.10/dist-packages (from virtualenv>=20.10.0->pre-commit>=3.0.0->liana) (4.3.6)\n",
            "Collecting stdlib-list (from session-info->scanpy>=1.8.0->liana)\n",
            "  Using cached stdlib_list-0.11.0-py3-none-any.whl.metadata (3.3 kB)\n",
            "Using cached liana-1.4.0-py3-none-any.whl (1.2 MB)\n",
            "Using cached anndata-0.10.9-py3-none-any.whl (128 kB)\n",
            "Using cached pre_commit-4.0.1-py2.py3-none-any.whl (218 kB)\n",
            "Using cached scanpy-1.10.3-py3-none-any.whl (2.1 MB)\n",
            "Using cached mudata-0.3.1-py3-none-any.whl (41 kB)\n",
            "Using cached array_api_compat-1.9.1-py3-none-any.whl (50 kB)\n",
            "Using cached cfgv-3.4.0-py2.py3-none-any.whl (7.2 kB)\n",
            "Using cached identify-2.6.1-py2.py3-none-any.whl (98 kB)\n",
            "Using cached legacy_api_wrap-1.4-py3-none-any.whl (15 kB)\n",
            "Using cached nodeenv-1.9.1-py2.py3-none-any.whl (22 kB)\n",
            "Using cached pynndescent-0.5.13-py3-none-any.whl (56 kB)\n",
            "Using cached umap_learn-0.5.7-py3-none-any.whl (88 kB)\n",
            "Using cached virtualenv-20.27.1-py3-none-any.whl (3.1 MB)\n",
            "Using cached distlib-0.3.9-py2.py3-none-any.whl (468 kB)\n",
            "Using cached stdlib_list-0.11.0-py3-none-any.whl (83 kB)\n",
            "Installing collected packages: distlib, virtualenv, stdlib-list, nodeenv, legacy-api-wrap, identify, docrep, cfgv, array-api-compat, session-info, pre-commit, pynndescent, anndata, umap-learn, mudata, scanpy, liana\n",
            "Successfully installed anndata-0.10.9 array-api-compat-1.9.1 cfgv-3.4.0 distlib-0.3.9 docrep-0.3.2 identify-2.6.1 legacy-api-wrap-1.4 liana-1.4.0 mudata-0.3.1 nodeenv-1.9.1 pre-commit-4.0.1 pynndescent-0.5.13 scanpy-1.10.3 session-info-1.0.0 stdlib-list-0.11.0 umap-learn-0.5.7 virtualenv-20.27.1\n",
            "Requirement already satisfied: biopython in /usr/local/lib/python3.10/dist-packages (1.84)\n",
            "Requirement already satisfied: numpy in /usr/local/lib/python3.10/dist-packages (from biopython) (1.26.4)\n"
          ]
        },
        {
          "output_type": "error",
          "ename": "ValueError",
          "evalue": "mount failed",
          "traceback": [
            "\u001b[0;31m---------------------------------------------------------------------------\u001b[0m",
            "\u001b[0;31mValueError\u001b[0m                                Traceback (most recent call last)",
            "\u001b[0;32m<ipython-input-3-4ce40e3b724c>\u001b[0m in \u001b[0;36m<cell line: 13>\u001b[0;34m()\u001b[0m\n\u001b[1;32m     11\u001b[0m \u001b[0;34m\u001b[0m\u001b[0m\n\u001b[1;32m     12\u001b[0m \u001b[0;32mfrom\u001b[0m \u001b[0mgoogle\u001b[0m\u001b[0;34m.\u001b[0m\u001b[0mcolab\u001b[0m \u001b[0;32mimport\u001b[0m \u001b[0mdrive\u001b[0m\u001b[0;34m\u001b[0m\u001b[0;34m\u001b[0m\u001b[0m\n\u001b[0;32m---> 13\u001b[0;31m \u001b[0mdrive\u001b[0m\u001b[0;34m.\u001b[0m\u001b[0mmount\u001b[0m\u001b[0;34m(\u001b[0m\u001b[0;34m'/content/drive'\u001b[0m\u001b[0;34m)\u001b[0m\u001b[0;34m\u001b[0m\u001b[0;34m\u001b[0m\u001b[0m\n\u001b[0m\u001b[1;32m     14\u001b[0m \u001b[0;34m\u001b[0m\u001b[0m\n\u001b[1;32m     15\u001b[0m \u001b[0meshika\u001b[0m\u001b[0;34m,\u001b[0m \u001b[0mhratch\u001b[0m \u001b[0;34m=\u001b[0m \u001b[0;32mTrue\u001b[0m\u001b[0;34m,\u001b[0m \u001b[0;32mFalse\u001b[0m\u001b[0;34m\u001b[0m\u001b[0;34m\u001b[0m\u001b[0m\n",
            "\u001b[0;32m/usr/local/lib/python3.10/dist-packages/google/colab/drive.py\u001b[0m in \u001b[0;36mmount\u001b[0;34m(mountpoint, force_remount, timeout_ms, readonly)\u001b[0m\n\u001b[1;32m     98\u001b[0m \u001b[0;32mdef\u001b[0m \u001b[0mmount\u001b[0m\u001b[0;34m(\u001b[0m\u001b[0mmountpoint\u001b[0m\u001b[0;34m,\u001b[0m \u001b[0mforce_remount\u001b[0m\u001b[0;34m=\u001b[0m\u001b[0;32mFalse\u001b[0m\u001b[0;34m,\u001b[0m \u001b[0mtimeout_ms\u001b[0m\u001b[0;34m=\u001b[0m\u001b[0;36m120000\u001b[0m\u001b[0;34m,\u001b[0m \u001b[0mreadonly\u001b[0m\u001b[0;34m=\u001b[0m\u001b[0;32mFalse\u001b[0m\u001b[0;34m)\u001b[0m\u001b[0;34m:\u001b[0m\u001b[0;34m\u001b[0m\u001b[0;34m\u001b[0m\u001b[0m\n\u001b[1;32m     99\u001b[0m   \u001b[0;34m\"\"\"Mount your Google Drive at the specified mountpoint path.\"\"\"\u001b[0m\u001b[0;34m\u001b[0m\u001b[0;34m\u001b[0m\u001b[0m\n\u001b[0;32m--> 100\u001b[0;31m   return _mount(\n\u001b[0m\u001b[1;32m    101\u001b[0m       \u001b[0mmountpoint\u001b[0m\u001b[0;34m,\u001b[0m\u001b[0;34m\u001b[0m\u001b[0;34m\u001b[0m\u001b[0m\n\u001b[1;32m    102\u001b[0m       \u001b[0mforce_remount\u001b[0m\u001b[0;34m=\u001b[0m\u001b[0mforce_remount\u001b[0m\u001b[0;34m,\u001b[0m\u001b[0;34m\u001b[0m\u001b[0;34m\u001b[0m\u001b[0m\n",
            "\u001b[0;32m/usr/local/lib/python3.10/dist-packages/google/colab/drive.py\u001b[0m in \u001b[0;36m_mount\u001b[0;34m(mountpoint, force_remount, timeout_ms, ephemeral, readonly)\u001b[0m\n\u001b[1;32m    275\u001b[0m             \u001b[0;34m'https://research.google.com/colaboratory/faq.html#drive-timeout'\u001b[0m\u001b[0;34m\u001b[0m\u001b[0;34m\u001b[0m\u001b[0m\n\u001b[1;32m    276\u001b[0m         )\n\u001b[0;32m--> 277\u001b[0;31m       \u001b[0;32mraise\u001b[0m \u001b[0mValueError\u001b[0m\u001b[0;34m(\u001b[0m\u001b[0;34m'mount failed'\u001b[0m \u001b[0;34m+\u001b[0m \u001b[0mextra_reason\u001b[0m\u001b[0;34m)\u001b[0m\u001b[0;34m\u001b[0m\u001b[0;34m\u001b[0m\u001b[0m\n\u001b[0m\u001b[1;32m    278\u001b[0m     \u001b[0;32melif\u001b[0m \u001b[0mcase\u001b[0m \u001b[0;34m==\u001b[0m \u001b[0;36m4\u001b[0m\u001b[0;34m:\u001b[0m\u001b[0;34m\u001b[0m\u001b[0;34m\u001b[0m\u001b[0m\n\u001b[1;32m    279\u001b[0m       \u001b[0;31m# Terminate the DriveFS binary before killing bash.\u001b[0m\u001b[0;34m\u001b[0m\u001b[0;34m\u001b[0m\u001b[0m\n",
            "\u001b[0;31mValueError\u001b[0m: mount failed"
          ]
        }
      ],
      "source": [
        "!pip install liana\n",
        "!pip install biopython\n",
        "import pandas as pd\n",
        "import os\n",
        "\n",
        "import liana.method as method  # Replace with the correct module from your list\n",
        "import liana.resource as rs\n",
        "import liana\n",
        "import re\n",
        "import seaborn as sns\n",
        "\n",
        "from google.colab import drive\n",
        "drive.mount('/content/drive')\n",
        "\n",
        "eshika, hratch = True, False\n",
        "if eshika:\n",
        "  data_path = '/content/drive/My Drive/Veritas AI'\n",
        "if hratch:\n",
        "  data_path = '/content/drive/My Drive/05_Other/VeritasAI/Eshika_Hratch/'"
      ]
    },
    {
      "cell_type": "code",
      "source": [
        "ccc_resources = liana.rs.select_resource(\"consensus\")\n",
        "ccc_resources.head()"
      ],
      "metadata": {
        "colab": {
          "base_uri": "https://localhost:8080/",
          "height": 158
        },
        "id": "7o_un2yyw_qr",
        "outputId": "52bb7c5f-d5df-44d5-d756-a7a9a113cdf5"
      },
      "execution_count": null,
      "outputs": [
        {
          "output_type": "error",
          "ename": "NameError",
          "evalue": "name 'liana' is not defined",
          "traceback": [
            "\u001b[0;31m---------------------------------------------------------------------------\u001b[0m",
            "\u001b[0;31mNameError\u001b[0m                                 Traceback (most recent call last)",
            "\u001b[0;32m<ipython-input-2-180ac54d8689>\u001b[0m in \u001b[0;36m<cell line: 1>\u001b[0;34m()\u001b[0m\n\u001b[0;32m----> 1\u001b[0;31m \u001b[0mccc_resources\u001b[0m \u001b[0;34m=\u001b[0m \u001b[0mliana\u001b[0m\u001b[0;34m.\u001b[0m\u001b[0mrs\u001b[0m\u001b[0;34m.\u001b[0m\u001b[0mselect_resource\u001b[0m\u001b[0;34m(\u001b[0m\u001b[0;34m\"consensus\"\u001b[0m\u001b[0;34m)\u001b[0m\u001b[0;34m\u001b[0m\u001b[0;34m\u001b[0m\u001b[0m\n\u001b[0m\u001b[1;32m      2\u001b[0m \u001b[0mccc_resources\u001b[0m\u001b[0;34m.\u001b[0m\u001b[0mhead\u001b[0m\u001b[0;34m(\u001b[0m\u001b[0;34m)\u001b[0m\u001b[0;34m\u001b[0m\u001b[0;34m\u001b[0m\u001b[0m\n",
            "\u001b[0;31mNameError\u001b[0m: name 'liana' is not defined"
          ]
        }
      ]
    },
    {
      "cell_type": "code",
      "source": [
        "combined_column = pd.concat([ccc_resources['ligand'], ccc_resources['receptor']], ignore_index=True).drop_duplicates()\n",
        "print('There are {} unique genes in the LIANA consensus ligand-receptor database'.format(combined_column.shape[0]))\n",
        "combined_column.head()"
      ],
      "metadata": {
        "id": "xZNaFTHpxSFj"
      },
      "execution_count": null,
      "outputs": []
    }
  ]
}